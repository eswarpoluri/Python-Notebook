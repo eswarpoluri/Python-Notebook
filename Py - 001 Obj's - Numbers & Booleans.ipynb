{
  "nbformat": 4,
  "nbformat_minor": 0,
  "metadata": {
    "kernelspec": {
      "display_name": "Python 3",
      "language": "python",
      "name": "python3"
    },
    "language_info": {
      "codemirror_mode": {
        "name": "ipython",
        "version": 3
      },
      "file_extension": ".py",
      "mimetype": "text/x-python",
      "name": "python",
      "nbconvert_exporter": "python",
      "pygments_lexer": "ipython3",
      "version": "3.7.7"
    },
    "colab": {
      "name": "Py - 001 Obj's - Numbers & Booleans.ipynb",
      "provenance": [],
      "include_colab_link": true
    }
  },
  "cells": [
    {
      "cell_type": "markdown",
      "metadata": {
        "id": "view-in-github",
        "colab_type": "text"
      },
      "source": [
        "<a href=\"https://colab.research.google.com/github/eswarpoluri/Python-Notebook/blob/master/Py%20-%20001%20Obj's%20-%20Numbers%20%26%20Booleans.ipynb\" target=\"_parent\"><img src=\"https://colab.research.google.com/assets/colab-badge.svg\" alt=\"Open In Colab\"/></a>"
      ]
    },
    {
      "cell_type": "code",
      "metadata": {
        "id": "cuc_vP1d1Pko",
        "colab_type": "code",
        "colab": {},
        "outputId": "4623e068-918e-4ec1-a34a-b1efcb6c4201"
      },
      "source": [
        "# Addition\n",
        "2 + 2"
      ],
      "execution_count": null,
      "outputs": [
        {
          "output_type": "execute_result",
          "data": {
            "text/plain": [
              "4"
            ]
          },
          "metadata": {
            "tags": []
          },
          "execution_count": 1
        }
      ]
    },
    {
      "cell_type": "code",
      "metadata": {
        "id": "-ZGJleOP1PlE",
        "colab_type": "code",
        "colab": {},
        "outputId": "cf9da555-748b-4aa7-faf7-2274c1c3db25"
      },
      "source": [
        "# Subtraction\n",
        "3-2"
      ],
      "execution_count": null,
      "outputs": [
        {
          "output_type": "execute_result",
          "data": {
            "text/plain": [
              "1"
            ]
          },
          "metadata": {
            "tags": []
          },
          "execution_count": 2
        }
      ]
    },
    {
      "cell_type": "code",
      "metadata": {
        "id": "1mkaC8Ho1PlT",
        "colab_type": "code",
        "colab": {},
        "outputId": "9a7260fb-f2ec-4891-eeca-9cac7d1ccad9"
      },
      "source": [
        "# Multiplication\n",
        "2*2"
      ],
      "execution_count": null,
      "outputs": [
        {
          "output_type": "execute_result",
          "data": {
            "text/plain": [
              "4"
            ]
          },
          "metadata": {
            "tags": []
          },
          "execution_count": 4
        }
      ]
    },
    {
      "cell_type": "code",
      "metadata": {
        "id": "CipZ-yzG1Plk",
        "colab_type": "code",
        "colab": {},
        "outputId": "cd4a6820-0fc0-4721-bd2c-9a482912a2e9"
      },
      "source": [
        "# Division\n",
        "2/2"
      ],
      "execution_count": null,
      "outputs": [
        {
          "output_type": "execute_result",
          "data": {
            "text/plain": [
              "1.0"
            ]
          },
          "metadata": {
            "tags": []
          },
          "execution_count": 5
        }
      ]
    },
    {
      "cell_type": "code",
      "metadata": {
        "id": "hIO9fbYV1Plw",
        "colab_type": "code",
        "colab": {},
        "outputId": "eb79fc89-e699-408b-ecb8-ed4d563bf92b"
      },
      "source": [
        "# Floor Division\n",
        "2//2"
      ],
      "execution_count": null,
      "outputs": [
        {
          "output_type": "execute_result",
          "data": {
            "text/plain": [
              "1"
            ]
          },
          "metadata": {
            "tags": []
          },
          "execution_count": 7
        }
      ]
    },
    {
      "cell_type": "code",
      "metadata": {
        "id": "-eFBhNrF1Pl6",
        "colab_type": "code",
        "colab": {},
        "outputId": "0a8127e4-4604-4669-e7da-ced68bcfea03"
      },
      "source": [
        "# remainder\n",
        "17 % 3"
      ],
      "execution_count": null,
      "outputs": [
        {
          "output_type": "execute_result",
          "data": {
            "text/plain": [
              "2"
            ]
          },
          "metadata": {
            "tags": []
          },
          "execution_count": 8
        }
      ]
    },
    {
      "cell_type": "code",
      "metadata": {
        "id": "17EhJBfU1PmE",
        "colab_type": "code",
        "colab": {},
        "outputId": "9789ee7e-b48a-46ce-ff8c-05255ab4c5f3"
      },
      "source": [
        "# Power\n",
        "5 ** 2"
      ],
      "execution_count": null,
      "outputs": [
        {
          "output_type": "execute_result",
          "data": {
            "text/plain": [
              "25"
            ]
          },
          "metadata": {
            "tags": []
          },
          "execution_count": 9
        }
      ]
    },
    {
      "cell_type": "code",
      "metadata": {
        "id": "ljSXi4qo1PmP",
        "colab_type": "code",
        "colab": {},
        "outputId": "118ed972-b8f4-46d4-9953-fedcf818121a"
      },
      "source": [
        "# Assignment\n",
        "width = 20\n",
        "width"
      ],
      "execution_count": null,
      "outputs": [
        {
          "output_type": "execute_result",
          "data": {
            "text/plain": [
              "20"
            ]
          },
          "metadata": {
            "tags": []
          },
          "execution_count": 10
        }
      ]
    },
    {
      "cell_type": "markdown",
      "metadata": {
        "id": "hXK-0XGY1PmY",
        "colab_type": "text"
      },
      "source": [
        "**\n",
        "Use of  \"_\" <br>\n",
        "In interactive mode, the last printed expression is assigned to the variable _. This means that when you are using Python as a desk calculator, it is somewhat easier to continue calculations"
      ]
    },
    {
      "cell_type": "code",
      "metadata": {
        "id": "dU95wDew1Pmb",
        "colab_type": "code",
        "colab": {},
        "outputId": "1c72e6c3-a92b-4acf-daa6-e83721313ab7"
      },
      "source": [
        "width+_ # last printed value is 20. so 20+20=40"
      ],
      "execution_count": null,
      "outputs": [
        {
          "output_type": "execute_result",
          "data": {
            "text/plain": [
              "40"
            ]
          },
          "metadata": {
            "tags": []
          },
          "execution_count": 11
        }
      ]
    },
    {
      "cell_type": "markdown",
      "metadata": {
        "id": "nERhjpJU1Pmk",
        "colab_type": "text"
      },
      "source": [
        "Boolean Operations and, or, not"
      ]
    },
    {
      "cell_type": "code",
      "metadata": {
        "id": "2dDtZr4W1Pmm",
        "colab_type": "code",
        "colab": {},
        "outputId": "3b103168-885b-4b8b-c455-e5633259ac5b"
      },
      "source": [
        "x,y=1,0\n",
        "x or y"
      ],
      "execution_count": null,
      "outputs": [
        {
          "output_type": "execute_result",
          "data": {
            "text/plain": [
              "1"
            ]
          },
          "metadata": {
            "tags": []
          },
          "execution_count": 15
        }
      ]
    },
    {
      "cell_type": "code",
      "metadata": {
        "id": "npEwanXs1Pmv",
        "colab_type": "code",
        "colab": {},
        "outputId": "fb757ef7-868a-49be-a268-a8d6b4f028da"
      },
      "source": [
        "x&y"
      ],
      "execution_count": null,
      "outputs": [
        {
          "output_type": "execute_result",
          "data": {
            "text/plain": [
              "0"
            ]
          },
          "metadata": {
            "tags": []
          },
          "execution_count": 16
        }
      ]
    },
    {
      "cell_type": "markdown",
      "metadata": {
        "id": "xqOvbC_x1Pm5",
        "colab_type": "text"
      },
      "source": [
        "**<br>\n",
        "When numaric values (expect 0,1) are used along with boolean operators, numaric values will convert to equalent binary values and logical operation will be performed at each bit level"
      ]
    },
    {
      "cell_type": "code",
      "metadata": {
        "id": "uubf1zXE1Pm7",
        "colab_type": "code",
        "colab": {},
        "outputId": "3779aaeb-6e87-4699-fecb-aa0349f74f0b"
      },
      "source": [
        "x,y=2,3\n",
        "x&y"
      ],
      "execution_count": null,
      "outputs": [
        {
          "output_type": "execute_result",
          "data": {
            "text/plain": [
              "2"
            ]
          },
          "metadata": {
            "tags": []
          },
          "execution_count": 17
        }
      ]
    },
    {
      "cell_type": "code",
      "metadata": {
        "id": "f77nZK721PnE",
        "colab_type": "code",
        "colab": {},
        "outputId": "0fdaa1e4-f7a6-4533-d38b-12dcd676f9dd"
      },
      "source": [
        "# Explanation of above example\n",
        "i1=bin(x)\n",
        "b1=i1[2:]\n",
        "\n",
        "i2=bin(x)\n",
        "b2=i2[2:]\n",
        "\n",
        "print(b1)\n",
        "print(b2)\n",
        "print('---')\n",
        "print((1&1),(0&0), \"decimal equalent=\",int('10',2))  "
      ],
      "execution_count": null,
      "outputs": [
        {
          "output_type": "stream",
          "text": [
            "10\n",
            "10\n",
            "---\n",
            "1 0 decimal equalent= 2\n"
          ],
          "name": "stdout"
        }
      ]
    },
    {
      "cell_type": "markdown",
      "metadata": {
        "id": "PrxHb0-i1PnO",
        "colab_type": "text"
      },
      "source": [
        "Convertion of numbers from Binary, Decimal, Octa, Hexa"
      ]
    },
    {
      "cell_type": "code",
      "metadata": {
        "id": "kyMOnQUV1PnQ",
        "colab_type": "code",
        "colab": {},
        "outputId": "17907f0e-fb48-4412-bc8f-f81f68aa66d5"
      },
      "source": [
        "# Binary to Decimal\n",
        "int('10',2)"
      ],
      "execution_count": null,
      "outputs": [
        {
          "output_type": "execute_result",
          "data": {
            "text/plain": [
              "2"
            ]
          },
          "metadata": {
            "tags": []
          },
          "execution_count": 36
        }
      ]
    },
    {
      "cell_type": "markdown",
      "metadata": {
        "id": "EBcAjJwW1l_Q",
        "colab_type": "text"
      },
      "source": [
        "Q. Take two inputs from user and check whether they are equal or not."
      ]
    },
    {
      "cell_type": "code",
      "metadata": {
        "id": "VQ3bk09c1PnY",
        "colab_type": "code",
        "colab": {
          "base_uri": "https://localhost:8080/",
          "height": 69
        },
        "outputId": "ce73aadd-74f0-4f34-9529-3ee91332224b"
      },
      "source": [
        "first = input(\"Enter first number:\")\n",
        "second = input(\"Enter second number:\")\n",
        "print(\"Given numbers are equal:\",first == second)"
      ],
      "execution_count": 14,
      "outputs": [
        {
          "output_type": "stream",
          "text": [
            "Enter first number:2\n",
            "Enter second number:2\n",
            "Given numbers are equal: True\n"
          ],
          "name": "stdout"
        }
      ]
    },
    {
      "cell_type": "markdown",
      "metadata": {
        "id": "WAt8nYUQ2JCh",
        "colab_type": "text"
      },
      "source": [
        "Q. Take 3 inputs from user and check : all are equal any of two are equal ( use and or )"
      ]
    },
    {
      "cell_type": "code",
      "metadata": {
        "id": "dZpiclQa1Png",
        "colab_type": "code",
        "colab": {
          "base_uri": "https://localhost:8080/",
          "height": 86
        },
        "outputId": "79b0a4f6-05e1-4247-8a34-550119982fcd"
      },
      "source": [
        "first = input(\"Enter first number:\")\n",
        "second = input(\"Enter second number:\")\n",
        "third = input(\"Enter third number:\")\n",
        "print(\"Given numbers are equal:\",first == second and second==first)"
      ],
      "execution_count": 15,
      "outputs": [
        {
          "output_type": "stream",
          "text": [
            "Enter first number:3\n",
            "Enter second number:3\n",
            "Enter third number:3\n",
            "Given numbers are equal: True\n"
          ],
          "name": "stdout"
        }
      ]
    },
    {
      "cell_type": "markdown",
      "metadata": {
        "id": "N21qZsLV2iNt",
        "colab_type": "text"
      },
      "source": [
        "Q. Judge the follwing expressions :\n",
        "\n",
        "not(True and True)\n",
        "\n",
        "True or False\n",
        "\n",
        "not(False and True)\n",
        "\n",
        "False and False"
      ]
    },
    {
      "cell_type": "code",
      "metadata": {
        "id": "q4WuWkwt1Pnv",
        "colab_type": "code",
        "colab": {
          "base_uri": "https://localhost:8080/",
          "height": 86
        },
        "outputId": "652b1172-5751-4812-c0c3-308ccd4a85ff"
      },
      "source": [
        "print(not(True and True))\n",
        "print(True or True)\n",
        "print(not(False and False))\n",
        "print(False and False)"
      ],
      "execution_count": 16,
      "outputs": [
        {
          "output_type": "stream",
          "text": [
            "False\n",
            "True\n",
            "True\n",
            "False\n"
          ],
          "name": "stdout"
        }
      ]
    },
    {
      "cell_type": "markdown",
      "metadata": {
        "id": "i-qvF7a43mSE",
        "colab_type": "text"
      },
      "source": [
        "**\n",
        "Q. What is the output of following\n",
        "\n",
        "bool(\"Hello\")\n",
        "\n",
        "bool(15)"
      ]
    },
    {
      "cell_type": "code",
      "metadata": {
        "id": "JD2r1w243z-i",
        "colab_type": "code",
        "colab": {
          "base_uri": "https://localhost:8080/",
          "height": 173
        },
        "outputId": "a315bed9-f204-4698-be57-540f28ffbaa4"
      },
      "source": [
        "print(\"1.\",bool(\"Hello\"))\n",
        "print(\"2.\",bool(\"\"))\n",
        "print(\"3.\",bool(15))\n",
        "print(\"4.\",bool(0))\n",
        "print(\"5.\",bool(False))\n",
        "print(\"6.\",bool(None))\n",
        "print(\"7.\",bool(()))\n",
        "print(\"8.\",bool([]))\n",
        "print(\"9.\",bool({}))\n",
        "\n",
        "# The bool() function allows you to evaluate any value, and give you True or False in return\n",
        "# Almost any value is evaluated to True if it has some sort of content.\n",
        "# Any string is True, except empty strings.\n",
        "# Any number is True, except 0.\n",
        "# Any list, tuple, set, and dictionary are True, except empty ones."
      ],
      "execution_count": 22,
      "outputs": [
        {
          "output_type": "stream",
          "text": [
            "1. True\n",
            "2. False\n",
            "3. True\n",
            "4. False\n",
            "5. False\n",
            "6. False\n",
            "7. False\n",
            "8. False\n",
            "9. False\n"
          ],
          "name": "stdout"
        }
      ]
    },
    {
      "cell_type": "markdown",
      "metadata": {
        "id": "XvxNqMyv53Ch",
        "colab_type": "text"
      },
      "source": [
        "**Adv\n",
        "\n",
        "Q. What is the output below example\n"
      ]
    },
    {
      "cell_type": "code",
      "metadata": {
        "id": "yrZDcwFg55mA",
        "colab_type": "code",
        "colab": {
          "base_uri": "https://localhost:8080/",
          "height": 34
        },
        "outputId": "ef475ee7-01e7-41ef-ca3e-010218cddbc1"
      },
      "source": [
        "class myclass():\n",
        "  def __len__(self):\n",
        "    return 0\n",
        "\n",
        "myobj = myclass()\n",
        "print(bool(myobj))\n",
        "# class which returns 0 will give False\n",
        "# here we have an object that is made from a class with a __len__ function that returns 0"
      ],
      "execution_count": 27,
      "outputs": [
        {
          "output_type": "stream",
          "text": [
            "False\n"
          ],
          "name": "stdout"
        }
      ]
    },
    {
      "cell_type": "markdown",
      "metadata": {
        "id": "uRJW6sdu44_x",
        "colab_type": "text"
      },
      "source": [
        "** Adv\n",
        "\n",
        "Q. What is the output below example"
      ]
    },
    {
      "cell_type": "code",
      "metadata": {
        "id": "t1GB1jwZ6uhc",
        "colab_type": "code",
        "colab": {
          "base_uri": "https://localhost:8080/",
          "height": 34
        },
        "outputId": "296afb51-1362-417f-eef6-afe390807246"
      },
      "source": [
        "x = 200\n",
        "print(isinstance(x, int))\n",
        "# isinstance is used to determine if an object is of a certain data type"
      ],
      "execution_count": 28,
      "outputs": [
        {
          "output_type": "stream",
          "text": [
            "True\n"
          ],
          "name": "stdout"
        }
      ]
    },
    {
      "cell_type": "markdown",
      "metadata": {
        "id": "4JFfqedf4GqU",
        "colab_type": "text"
      },
      "source": [
        ""
      ]
    }
  ]
}