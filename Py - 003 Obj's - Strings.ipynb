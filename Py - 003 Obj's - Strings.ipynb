{
  "nbformat": 4,
  "nbformat_minor": 0,
  "metadata": {
    "kernelspec": {
      "display_name": "Python 3",
      "language": "python",
      "name": "python3"
    },
    "language_info": {
      "codemirror_mode": {
        "name": "ipython",
        "version": 3
      },
      "file_extension": ".py",
      "mimetype": "text/x-python",
      "name": "python",
      "nbconvert_exporter": "python",
      "pygments_lexer": "ipython3",
      "version": "3.7.7"
    },
    "colab": {
      "name": "Py - 003 Obj's - Strings.ipynb",
      "provenance": []
    }
  },
  "cells": [
    {
      "cell_type": "markdown",
      "metadata": {
        "id": "NeLYkgZ-7F3F",
        "colab_type": "text"
      },
      "source": [
        "Strings"
      ]
    },
    {
      "cell_type": "code",
      "metadata": {
        "id": "Vpg6Lp3R7F3J",
        "colab_type": "code",
        "colab": {
          "base_uri": "https://localhost:8080/",
          "height": 34
        },
        "outputId": "ff2eeaf8-3a5f-43b0-e92b-2ec888f0f60c"
      },
      "source": [
        "s='Hello Word'\n",
        "type(s)"
      ],
      "execution_count": 1,
      "outputs": [
        {
          "output_type": "execute_result",
          "data": {
            "text/plain": [
              "str"
            ]
          },
          "metadata": {
            "tags": []
          },
          "execution_count": 1
        }
      ]
    },
    {
      "cell_type": "markdown",
      "metadata": {
        "id": "4tGJlHw57F3Y",
        "colab_type": "text"
      },
      "source": [
        "All methods in strings"
      ]
    },
    {
      "cell_type": "code",
      "metadata": {
        "id": "gNqgOj4c7F3a",
        "colab_type": "code",
        "colab": {
          "base_uri": "https://localhost:8080/",
          "height": 34
        },
        "outputId": "97925661-80f5-44a7-a819-220b760c5ee4"
      },
      "source": [
        "s.capitalize\n",
        "s.title\n",
        "s.lower\n",
        "s.upper\n",
        "s.casefold\n",
        "\n",
        "s.center\n",
        "s.count\n",
        "s.encode\n",
        "s.endswith\n",
        "s.expandtabs\n",
        "s.find\n",
        "s.rfind\n",
        "\n",
        "s.format\n",
        "s.format_map\n",
        "\n",
        "s.index\n",
        "s.rindex\n",
        "\n",
        "s.isalnum\n",
        "s.isalpha\n",
        "s.isdecimal\n",
        "s.isdigit\n",
        "s.isidentifier\n",
        "s.isnumeric\n",
        "s.isprintable\n",
        "s.isspace\n",
        "\n",
        "s.istitle\n",
        "s.isupper\n",
        "s.islower\n",
        "s.swapcase\n",
        "\n",
        "s.join\n",
        "\n",
        "s.ljust\n",
        "s.rjust\n",
        "\n",
        "s.maketrans\n",
        "\n",
        "s.partition\n",
        "s.rpartition\n",
        "\n",
        "s.replace\n",
        "\n",
        "s.split\n",
        "s.rsplit\n",
        "\n",
        "s.splitlines\n",
        "s.startswith\n",
        "\n",
        "s.strip\n",
        "s.rstrip\n",
        "s.lstrip\n",
        "\n",
        "s.translate\n",
        "s.zfill"
      ],
      "execution_count": 2,
      "outputs": [
        {
          "output_type": "execute_result",
          "data": {
            "text/plain": [
              "<function str.zfill>"
            ]
          },
          "metadata": {
            "tags": []
          },
          "execution_count": 2
        }
      ]
    },
    {
      "cell_type": "markdown",
      "metadata": {
        "id": "ePqFgkv77F3l",
        "colab_type": "text"
      },
      "source": [
        "String Examples"
      ]
    },
    {
      "cell_type": "code",
      "metadata": {
        "id": "C2poN_YQ7F3m",
        "colab_type": "code",
        "colab": {
          "base_uri": "https://localhost:8080/",
          "height": 35
        },
        "outputId": "d05f906e-125d-4cff-8f0f-c69d39c0942e"
      },
      "source": [
        "s='Hello Word'\n",
        "s.capitalize() # Return a capitalized version of the string."
      ],
      "execution_count": 3,
      "outputs": [
        {
          "output_type": "execute_result",
          "data": {
            "application/vnd.google.colaboratory.intrinsic+json": {
              "type": "string"
            },
            "text/plain": [
              "'Hello word'"
            ]
          },
          "metadata": {
            "tags": []
          },
          "execution_count": 3
        }
      ]
    },
    {
      "cell_type": "code",
      "metadata": {
        "id": "THEI1PU87F3w",
        "colab_type": "code",
        "colab": {
          "base_uri": "https://localhost:8080/",
          "height": 35
        },
        "outputId": "53e16c5f-d28d-4223-f412-9f66ce950efb"
      },
      "source": [
        "s.lower()"
      ],
      "execution_count": 4,
      "outputs": [
        {
          "output_type": "execute_result",
          "data": {
            "application/vnd.google.colaboratory.intrinsic+json": {
              "type": "string"
            },
            "text/plain": [
              "'hello word'"
            ]
          },
          "metadata": {
            "tags": []
          },
          "execution_count": 4
        }
      ]
    },
    {
      "cell_type": "code",
      "metadata": {
        "id": "jxr50OjI7F39",
        "colab_type": "code",
        "colab": {
          "base_uri": "https://localhost:8080/",
          "height": 35
        },
        "outputId": "7277c43a-b79c-4a52-ef11-33d6eebc4862"
      },
      "source": [
        "s.upper()"
      ],
      "execution_count": 5,
      "outputs": [
        {
          "output_type": "execute_result",
          "data": {
            "application/vnd.google.colaboratory.intrinsic+json": {
              "type": "string"
            },
            "text/plain": [
              "'HELLO WORD'"
            ]
          },
          "metadata": {
            "tags": []
          },
          "execution_count": 5
        }
      ]
    },
    {
      "cell_type": "code",
      "metadata": {
        "id": "QM5mXFTT7F4E",
        "colab_type": "code",
        "colab": {
          "base_uri": "https://localhost:8080/",
          "height": 35
        },
        "outputId": "e16351d3-fda7-48e4-fd71-f560b77c2056"
      },
      "source": [
        "s.title()"
      ],
      "execution_count": 6,
      "outputs": [
        {
          "output_type": "execute_result",
          "data": {
            "application/vnd.google.colaboratory.intrinsic+json": {
              "type": "string"
            },
            "text/plain": [
              "'Hello Word'"
            ]
          },
          "metadata": {
            "tags": []
          },
          "execution_count": 6
        }
      ]
    },
    {
      "cell_type": "code",
      "metadata": {
        "id": "kWLAVm6V7F4K",
        "colab_type": "code",
        "colab": {
          "base_uri": "https://localhost:8080/",
          "height": 35
        },
        "outputId": "a3195552-2a8a-4d72-e418-3ae20d6b19c1"
      },
      "source": [
        "s.casefold() # Return a version of the string suitable for caseless comparisons."
      ],
      "execution_count": 7,
      "outputs": [
        {
          "output_type": "execute_result",
          "data": {
            "application/vnd.google.colaboratory.intrinsic+json": {
              "type": "string"
            },
            "text/plain": [
              "'hello word'"
            ]
          },
          "metadata": {
            "tags": []
          },
          "execution_count": 7
        }
      ]
    },
    {
      "cell_type": "code",
      "metadata": {
        "id": "ZMOJy0S2_w0w",
        "colab_type": "code",
        "colab": {
          "base_uri": "https://localhost:8080/",
          "height": 35
        },
        "outputId": "d54cd0a7-bd94-47ae-f1c7-4835774033f5"
      },
      "source": [
        "s='Hello'\n",
        "s.swapcase() "
      ],
      "execution_count": 8,
      "outputs": [
        {
          "output_type": "execute_result",
          "data": {
            "application/vnd.google.colaboratory.intrinsic+json": {
              "type": "string"
            },
            "text/plain": [
              "'hELLO'"
            ]
          },
          "metadata": {
            "tags": []
          },
          "execution_count": 8
        }
      ]
    },
    {
      "cell_type": "code",
      "metadata": {
        "id": "tmQcyTQ87F4T",
        "colab_type": "code",
        "colab": {
          "base_uri": "https://localhost:8080/",
          "height": 35
        },
        "outputId": "621b95d7-5922-4b9d-9175-7f1df44572b1"
      },
      "source": [
        "s.center(20,'z') # Return a centered string of length width."
      ],
      "execution_count": 9,
      "outputs": [
        {
          "output_type": "execute_result",
          "data": {
            "application/vnd.google.colaboratory.intrinsic+json": {
              "type": "string"
            },
            "text/plain": [
              "'zzzzzzzHellozzzzzzzz'"
            ]
          },
          "metadata": {
            "tags": []
          },
          "execution_count": 9
        }
      ]
    },
    {
      "cell_type": "code",
      "metadata": {
        "id": "sZ6j5uOV7F4e",
        "colab_type": "code",
        "colab": {
          "base_uri": "https://localhost:8080/",
          "height": 34
        },
        "outputId": "ae48df24-04cc-4a31-c332-e4d9afbafdca"
      },
      "source": [
        "s.count('o')"
      ],
      "execution_count": 10,
      "outputs": [
        {
          "output_type": "execute_result",
          "data": {
            "text/plain": [
              "1"
            ]
          },
          "metadata": {
            "tags": []
          },
          "execution_count": 10
        }
      ]
    },
    {
      "cell_type": "code",
      "metadata": {
        "id": "AxfQp49O7F4l",
        "colab_type": "code",
        "colab": {
          "base_uri": "https://localhost:8080/",
          "height": 34
        },
        "outputId": "38988119-ab62-482b-ddd4-b7958265f1f1"
      },
      "source": [
        "s.endswith('o')"
      ],
      "execution_count": 11,
      "outputs": [
        {
          "output_type": "execute_result",
          "data": {
            "text/plain": [
              "True"
            ]
          },
          "metadata": {
            "tags": []
          },
          "execution_count": 11
        }
      ]
    },
    {
      "cell_type": "code",
      "metadata": {
        "id": "lrQ2paVZ7F4r",
        "colab_type": "code",
        "colab": {
          "base_uri": "https://localhost:8080/",
          "height": 34
        },
        "outputId": "a294e8be-8628-41db-8937-d87265aac033"
      },
      "source": [
        "s.encode(encoding='utf-8') # 'utf-8',\"ascii\" Encode the string using the codec registered for encoding"
      ],
      "execution_count": 12,
      "outputs": [
        {
          "output_type": "execute_result",
          "data": {
            "text/plain": [
              "b'Hello'"
            ]
          },
          "metadata": {
            "tags": []
          },
          "execution_count": 12
        }
      ]
    },
    {
      "cell_type": "code",
      "metadata": {
        "id": "J6RnE5Td7F4z",
        "colab_type": "code",
        "colab": {
          "base_uri": "https://localhost:8080/",
          "height": 35
        },
        "outputId": "587d594b-e104-4e83-f4e7-64a28d326182"
      },
      "source": [
        "'hello\\thi'.expandtabs() # Expand the tab (\\t)"
      ],
      "execution_count": 13,
      "outputs": [
        {
          "output_type": "execute_result",
          "data": {
            "application/vnd.google.colaboratory.intrinsic+json": {
              "type": "string"
            },
            "text/plain": [
              "'hello   hi'"
            ]
          },
          "metadata": {
            "tags": []
          },
          "execution_count": 13
        }
      ]
    },
    {
      "cell_type": "code",
      "metadata": {
        "id": "Q4A2Kq477F45",
        "colab_type": "code",
        "colab": {
          "base_uri": "https://localhost:8080/",
          "height": 34
        },
        "outputId": "7761f7b2-79c2-456e-c5d7-dbc110dd2c87"
      },
      "source": [
        "s.partition('o') # returns ('h', 'e', 'llo')"
      ],
      "execution_count": 14,
      "outputs": [
        {
          "output_type": "execute_result",
          "data": {
            "text/plain": [
              "('Hell', 'o', '')"
            ]
          },
          "metadata": {
            "tags": []
          },
          "execution_count": 14
        }
      ]
    },
    {
      "cell_type": "markdown",
      "metadata": {
        "id": "336qnreG7F4_",
        "colab_type": "text"
      },
      "source": [
        "rpartition<br>\n",
        "The rpartition() method searches for the last occurrence of a specified string, and splits the string into a tuple containing three elements."
      ]
    },
    {
      "cell_type": "code",
      "metadata": {
        "id": "6rpxo2Ii7F5A",
        "colab_type": "code",
        "colab": {
          "base_uri": "https://localhost:8080/",
          "height": 34
        },
        "outputId": "f013aad2-972e-45d9-da15-414d93af9a22"
      },
      "source": [
        "s.rpartition('o')"
      ],
      "execution_count": 15,
      "outputs": [
        {
          "output_type": "execute_result",
          "data": {
            "text/plain": [
              "('Hell', 'o', '')"
            ]
          },
          "metadata": {
            "tags": []
          },
          "execution_count": 15
        }
      ]
    },
    {
      "cell_type": "code",
      "metadata": {
        "id": "F5dw7Hc27F5G",
        "colab_type": "code",
        "colab": {
          "base_uri": "https://localhost:8080/",
          "height": 34
        },
        "outputId": "309f205a-1557-4e88-f757-76781f1a49ec"
      },
      "source": [
        "s.split() # default will be space"
      ],
      "execution_count": 16,
      "outputs": [
        {
          "output_type": "execute_result",
          "data": {
            "text/plain": [
              "['Hello']"
            ]
          },
          "metadata": {
            "tags": []
          },
          "execution_count": 16
        }
      ]
    },
    {
      "cell_type": "code",
      "metadata": {
        "id": "NBzqmkRi7F5O",
        "colab_type": "code",
        "colab": {
          "base_uri": "https://localhost:8080/",
          "height": 34
        },
        "outputId": "bf22dbda-4cc8-4489-90c1-0cfa84f31b98"
      },
      "source": [
        "s.split('o')"
      ],
      "execution_count": 17,
      "outputs": [
        {
          "output_type": "execute_result",
          "data": {
            "text/plain": [
              "['Hell', '']"
            ]
          },
          "metadata": {
            "tags": []
          },
          "execution_count": 17
        }
      ]
    },
    {
      "cell_type": "code",
      "metadata": {
        "id": "FXCclB-07F5V",
        "colab_type": "code",
        "colab": {
          "base_uri": "https://localhost:8080/",
          "height": 34
        },
        "outputId": "ca961c4c-3837-42a7-cba4-c56f6e78893a"
      },
      "source": [
        "s.rsplit('o')"
      ],
      "execution_count": 18,
      "outputs": [
        {
          "output_type": "execute_result",
          "data": {
            "text/plain": [
              "['Hell', '']"
            ]
          },
          "metadata": {
            "tags": []
          },
          "execution_count": 18
        }
      ]
    },
    {
      "cell_type": "markdown",
      "metadata": {
        "id": "7AekVN6a7F5b",
        "colab_type": "text"
      },
      "source": [
        "Note- the output remains the same when we don’t pass any arguments or when we just provide the delimiter.\n",
        "\n",
        "However, if we pass the arguments with maxsplit as below, you will see the difference:"
      ]
    },
    {
      "cell_type": "code",
      "metadata": {
        "id": "_dtDRhYk7F5d",
        "colab_type": "code",
        "colab": {
          "base_uri": "https://localhost:8080/",
          "height": 34
        },
        "outputId": "6f56927f-3515-4e9d-d9e7-bd4a4dfb0023"
      },
      "source": [
        "s = \"Hello people, How are you?\"\n",
        "s.rsplit('H', 1)"
      ],
      "execution_count": 19,
      "outputs": [
        {
          "output_type": "execute_result",
          "data": {
            "text/plain": [
              "['Hello people, ', 'ow are you?']"
            ]
          },
          "metadata": {
            "tags": []
          },
          "execution_count": 19
        }
      ]
    },
    {
      "cell_type": "code",
      "metadata": {
        "id": "Jqpeqz4h7F5i",
        "colab_type": "code",
        "colab": {
          "base_uri": "https://localhost:8080/",
          "height": 34
        },
        "outputId": "f39831f0-fafa-4d32-977d-b76c04874123"
      },
      "source": [
        "s.find('W')"
      ],
      "execution_count": 20,
      "outputs": [
        {
          "output_type": "execute_result",
          "data": {
            "text/plain": [
              "-1"
            ]
          },
          "metadata": {
            "tags": []
          },
          "execution_count": 20
        }
      ]
    },
    {
      "cell_type": "markdown",
      "metadata": {
        "id": "JOJphtRK7F5o",
        "colab_type": "text"
      },
      "source": [
        "rfind:  \n",
        "\n",
        "The rfind() method finds the last occurrence of the specified value.\n",
        "\n",
        "The rfind() method returns -1 if the value is not found.\n",
        "\n",
        "The rfind() method is almost the same as the rindex() method. See example below.<br>\n",
        "<br>\n",
        "string.rfind(value, start, end)\n",
        "\n",
        "value:\tRequired. The value to search for\n",
        "\n",
        "start:\tOptional. Where to start the search. Default is 0\n",
        "\n",
        "end:\tOptional. Where to end the search. Default is to the end of the string\n"
      ]
    },
    {
      "cell_type": "code",
      "metadata": {
        "id": "ezXkG85P7F5p",
        "colab_type": "code",
        "colab": {
          "base_uri": "https://localhost:8080/",
          "height": 34
        },
        "outputId": "37c87162-2718-4942-d163-08665c4155a2"
      },
      "source": [
        "txt = \"Hello, welcome to my world.\"\n",
        "x = txt.rfind(\"e\")\n",
        "x"
      ],
      "execution_count": 21,
      "outputs": [
        {
          "output_type": "execute_result",
          "data": {
            "text/plain": [
              "13"
            ]
          },
          "metadata": {
            "tags": []
          },
          "execution_count": 21
        }
      ]
    },
    {
      "cell_type": "code",
      "metadata": {
        "id": "5QcfC0sn7F5u",
        "colab_type": "code",
        "colab": {
          "base_uri": "https://localhost:8080/",
          "height": 34
        },
        "outputId": "e69be767-dadf-45c2-befb-6b10859036b5"
      },
      "source": [
        "x = txt.rfind(\"e\", 5, 10)\n",
        "x"
      ],
      "execution_count": 22,
      "outputs": [
        {
          "output_type": "execute_result",
          "data": {
            "text/plain": [
              "8"
            ]
          },
          "metadata": {
            "tags": []
          },
          "execution_count": 22
        }
      ]
    },
    {
      "cell_type": "code",
      "metadata": {
        "id": "rS4Z1ImR7F50",
        "colab_type": "code",
        "colab": {
          "base_uri": "https://localhost:8080/",
          "height": 34
        },
        "outputId": "b17d3e39-033c-414f-994a-52d1bcba60ae"
      },
      "source": [
        "# format()  # Refer Formatting in Print function.pynb for your notes for more info\n",
        "s = \"For only {price:.2f} dollars!\"\n",
        "print(s.format(price = 49))\n",
        "#S.format(*args, **kwargs)\n",
        "#Return a formatted version of S, using substitutions from args and kwargs.\n",
        "# The substitutions are identified by braces ('{' and '}')."
      ],
      "execution_count": 23,
      "outputs": [
        {
          "output_type": "stream",
          "text": [
            "For only 49.00 dollars!\n"
          ],
          "name": "stdout"
        }
      ]
    },
    {
      "cell_type": "markdown",
      "metadata": {
        "id": "BnpmvNM07F55",
        "colab_type": "text"
      },
      "source": [
        "format_map()   \n",
        "Note: Refer Formatting in Print function.pynb for your notes for more info\n",
        "\n",
        "The format_map(mapping) is similar to str.format(**mapping) method.\n",
        "\n",
        "The only difference is that str.format(**mapping) copies the dict whereas str.format_map(mapping) makes a new dictionary during method call. This can be useful if you are working with a dict subclass."
      ]
    },
    {
      "cell_type": "code",
      "metadata": {
        "id": "_bn4mzsJ7F56",
        "colab_type": "code",
        "colab": {
          "base_uri": "https://localhost:8080/",
          "height": 34
        },
        "outputId": "acee8789-0a15-4aae-f39a-375a0eb6897e"
      },
      "source": [
        "s = {'x':4,'y':-5}\n",
        "print('{x} {y}'.format(**s))"
      ],
      "execution_count": 24,
      "outputs": [
        {
          "output_type": "stream",
          "text": [
            "4 -5\n"
          ],
          "name": "stdout"
        }
      ]
    },
    {
      "cell_type": "code",
      "metadata": {
        "id": "b8660NI37F6A",
        "colab_type": "code",
        "colab": {
          "base_uri": "https://localhost:8080/",
          "height": 34
        },
        "outputId": "000c3a3b-dddb-420a-9588-c306359152f9"
      },
      "source": [
        "point = {'x':4,'y':-5}\n",
        "print('{x} {y}'.format_map(point))"
      ],
      "execution_count": 25,
      "outputs": [
        {
          "output_type": "stream",
          "text": [
            "4 -5\n"
          ],
          "name": "stdout"
        }
      ]
    },
    {
      "cell_type": "code",
      "metadata": {
        "id": "ilcpfGR57F6H",
        "colab_type": "code",
        "colab": {
          "base_uri": "https://localhost:8080/",
          "height": 34
        },
        "outputId": "9eb90843-5c6f-4cfd-d2cd-34102ac582b7"
      },
      "source": [
        "# Index\n",
        "s=\"Hello Word\"\n",
        "s.index('W') #string.index(value, start, end)"
      ],
      "execution_count": 26,
      "outputs": [
        {
          "output_type": "execute_result",
          "data": {
            "text/plain": [
              "6"
            ]
          },
          "metadata": {
            "tags": []
          },
          "execution_count": 26
        }
      ]
    },
    {
      "cell_type": "markdown",
      "metadata": {
        "id": "giVN8eso7F6N",
        "colab_type": "text"
      },
      "source": [
        "rindex\n",
        "\n",
        "The rindex() method finds the last occurrence of the specified value.\n",
        "\n",
        "The rindex() method raises an exception if the value is not found.\n",
        "\n",
        "The rindex() method is almost the same as the rfind() method. See example below.<br>\n",
        "<br>\n",
        "string.rindex(value, start, end)\n",
        "\n",
        "value\tRequired. The value to search for<br>\n",
        "start\tOptional. Where to start the search. Default is 0<br>\n",
        "end\tOptional. Where to end the search. Default is to the end of the string<br>"
      ]
    },
    {
      "cell_type": "code",
      "metadata": {
        "id": "WlQFAPSi7F6O",
        "colab_type": "code",
        "colab": {
          "base_uri": "https://localhost:8080/",
          "height": 34
        },
        "outputId": "41a150fc-731f-4175-a3f3-6d82e3b8280e"
      },
      "source": [
        "txt = \"Hello, welcome to my world.\"\n",
        "x = txt.rindex(\"e\")\n",
        "x"
      ],
      "execution_count": 27,
      "outputs": [
        {
          "output_type": "execute_result",
          "data": {
            "text/plain": [
              "13"
            ]
          },
          "metadata": {
            "tags": []
          },
          "execution_count": 27
        }
      ]
    },
    {
      "cell_type": "code",
      "metadata": {
        "id": "xHepzWeN7F6U",
        "colab_type": "code",
        "colab": {
          "base_uri": "https://localhost:8080/",
          "height": 34
        },
        "outputId": "ddf12723-b50d-4eb6-94b7-e05f576953e5"
      },
      "source": [
        "x = txt.rindex(\"e\", 5, 10)\n",
        "x"
      ],
      "execution_count": 28,
      "outputs": [
        {
          "output_type": "execute_result",
          "data": {
            "text/plain": [
              "8"
            ]
          },
          "metadata": {
            "tags": []
          },
          "execution_count": 28
        }
      ]
    },
    {
      "cell_type": "code",
      "metadata": {
        "id": "tkuA_i057F6a",
        "colab_type": "code",
        "colab": {
          "base_uri": "https://localhost:8080/",
          "height": 34
        },
        "outputId": "b53109be-4c7b-477a-c23c-bcf4ea4fd659"
      },
      "source": [
        "s.isalnum()"
      ],
      "execution_count": 29,
      "outputs": [
        {
          "output_type": "execute_result",
          "data": {
            "text/plain": [
              "False"
            ]
          },
          "metadata": {
            "tags": []
          },
          "execution_count": 29
        }
      ]
    },
    {
      "cell_type": "code",
      "metadata": {
        "id": "hpIutC8I7F6e",
        "colab_type": "code",
        "colab": {
          "base_uri": "https://localhost:8080/",
          "height": 34
        },
        "outputId": "53b659ac-4d18-4771-97c7-c48965921ea3"
      },
      "source": [
        "s.isalpha()"
      ],
      "execution_count": 30,
      "outputs": [
        {
          "output_type": "execute_result",
          "data": {
            "text/plain": [
              "False"
            ]
          },
          "metadata": {
            "tags": []
          },
          "execution_count": 30
        }
      ]
    },
    {
      "cell_type": "code",
      "metadata": {
        "id": "7Me0IsGm7F6n",
        "colab_type": "code",
        "colab": {
          "base_uri": "https://localhost:8080/",
          "height": 34
        },
        "outputId": "ce9c0104-d70e-4bc6-b4bb-64914e2d83b3"
      },
      "source": [
        "s.isdigit()"
      ],
      "execution_count": 31,
      "outputs": [
        {
          "output_type": "execute_result",
          "data": {
            "text/plain": [
              "False"
            ]
          },
          "metadata": {
            "tags": []
          },
          "execution_count": 31
        }
      ]
    },
    {
      "cell_type": "code",
      "metadata": {
        "id": "z5X0sKmK7F6q",
        "colab_type": "code",
        "colab": {
          "base_uri": "https://localhost:8080/",
          "height": 34
        },
        "outputId": "b5d0ebda-4439-47d3-cb73-990311ea83fe"
      },
      "source": [
        "s.isdecimal()"
      ],
      "execution_count": 32,
      "outputs": [
        {
          "output_type": "execute_result",
          "data": {
            "text/plain": [
              "False"
            ]
          },
          "metadata": {
            "tags": []
          },
          "execution_count": 32
        }
      ]
    },
    {
      "cell_type": "code",
      "metadata": {
        "id": "GdYbb2qE7F6u",
        "colab_type": "code",
        "colab": {
          "base_uri": "https://localhost:8080/",
          "height": 34
        },
        "outputId": "c1460b44-b737-40db-c98c-c77f62006e30"
      },
      "source": [
        "s.isidentifier()"
      ],
      "execution_count": 33,
      "outputs": [
        {
          "output_type": "execute_result",
          "data": {
            "text/plain": [
              "False"
            ]
          },
          "metadata": {
            "tags": []
          },
          "execution_count": 33
        }
      ]
    },
    {
      "cell_type": "code",
      "metadata": {
        "id": "qwv5CLM77F6x",
        "colab_type": "code",
        "colab": {
          "base_uri": "https://localhost:8080/",
          "height": 34
        },
        "outputId": "0c6c4465-b62c-426d-d580-628397f6a03a"
      },
      "source": [
        "s.isnumeric()"
      ],
      "execution_count": 34,
      "outputs": [
        {
          "output_type": "execute_result",
          "data": {
            "text/plain": [
              "False"
            ]
          },
          "metadata": {
            "tags": []
          },
          "execution_count": 34
        }
      ]
    },
    {
      "cell_type": "code",
      "metadata": {
        "id": "3ZD3RLkU7F6z",
        "colab_type": "code",
        "colab": {
          "base_uri": "https://localhost:8080/",
          "height": 34
        },
        "outputId": "aafe7d48-346c-4585-f9a8-02b08a4f9795"
      },
      "source": [
        "s.isprintable()"
      ],
      "execution_count": 35,
      "outputs": [
        {
          "output_type": "execute_result",
          "data": {
            "text/plain": [
              "True"
            ]
          },
          "metadata": {
            "tags": []
          },
          "execution_count": 35
        }
      ]
    },
    {
      "cell_type": "code",
      "metadata": {
        "id": "3ejd3I9k7F62",
        "colab_type": "code",
        "colab": {
          "base_uri": "https://localhost:8080/",
          "height": 34
        },
        "outputId": "78fa0c56-3315-424f-a0b1-292104ee230a"
      },
      "source": [
        "s.isspace() # return \"True\" if all characters in S are whitespace."
      ],
      "execution_count": 36,
      "outputs": [
        {
          "output_type": "execute_result",
          "data": {
            "text/plain": [
              "False"
            ]
          },
          "metadata": {
            "tags": []
          },
          "execution_count": 36
        }
      ]
    },
    {
      "cell_type": "code",
      "metadata": {
        "id": "uvcWr5qd7F64",
        "colab_type": "code",
        "colab": {
          "base_uri": "https://localhost:8080/",
          "height": 34
        },
        "outputId": "9cee626a-32a0-43b1-e5e5-99bb78382505"
      },
      "source": [
        "s.istitle() # Check if each word start with an upper case letter"
      ],
      "execution_count": 37,
      "outputs": [
        {
          "output_type": "execute_result",
          "data": {
            "text/plain": [
              "True"
            ]
          },
          "metadata": {
            "tags": []
          },
          "execution_count": 37
        }
      ]
    },
    {
      "cell_type": "code",
      "metadata": {
        "id": "TTd5Y-bc7F67",
        "colab_type": "code",
        "colab": {
          "base_uri": "https://localhost:8080/",
          "height": 34
        },
        "outputId": "a7184130-6687-4131-c26b-e1c47ab1d9fc"
      },
      "source": [
        "s.islower()"
      ],
      "execution_count": 38,
      "outputs": [
        {
          "output_type": "execute_result",
          "data": {
            "text/plain": [
              "False"
            ]
          },
          "metadata": {
            "tags": []
          },
          "execution_count": 38
        }
      ]
    },
    {
      "cell_type": "code",
      "metadata": {
        "id": "sxUa1b9H7F69",
        "colab_type": "code",
        "colab": {
          "base_uri": "https://localhost:8080/",
          "height": 34
        },
        "outputId": "620a1c71-09bb-4b47-e291-ece670075c8b"
      },
      "source": [
        "s.isupper()"
      ],
      "execution_count": 39,
      "outputs": [
        {
          "output_type": "execute_result",
          "data": {
            "text/plain": [
              "False"
            ]
          },
          "metadata": {
            "tags": []
          },
          "execution_count": 39
        }
      ]
    },
    {
      "cell_type": "code",
      "metadata": {
        "id": "2M4BhMy-7F6_",
        "colab_type": "code",
        "colab": {
          "base_uri": "https://localhost:8080/",
          "height": 35
        },
        "outputId": "b560ee7b-5eb5-4cf4-a453-21a22d08c8b8"
      },
      "source": [
        "# join\n",
        "myTuple = (\"John\", \"Peter\", \"Vicky\")\n",
        "x = \"#\".join(myTuple)\n",
        "x"
      ],
      "execution_count": 40,
      "outputs": [
        {
          "output_type": "execute_result",
          "data": {
            "application/vnd.google.colaboratory.intrinsic+json": {
              "type": "string"
            },
            "text/plain": [
              "'John#Peter#Vicky'"
            ]
          },
          "metadata": {
            "tags": []
          },
          "execution_count": 40
        }
      ]
    },
    {
      "cell_type": "code",
      "metadata": {
        "id": "KOmIjWGb7F7E",
        "colab_type": "code",
        "colab": {
          "base_uri": "https://localhost:8080/",
          "height": 35
        },
        "outputId": "be1ac9e0-3884-4e3f-8d6b-86b59d1511ae"
      },
      "source": [
        "# ljust\n",
        "# string.ljust(length, character)\n",
        "# Return a 20 characters long, left justified version of the word \"banana\":\n",
        "txt = \"banana\"\n",
        "x = txt.ljust(20,'#')\n",
        "x"
      ],
      "execution_count": 41,
      "outputs": [
        {
          "output_type": "execute_result",
          "data": {
            "application/vnd.google.colaboratory.intrinsic+json": {
              "type": "string"
            },
            "text/plain": [
              "'banana##############'"
            ]
          },
          "metadata": {
            "tags": []
          },
          "execution_count": 41
        }
      ]
    },
    {
      "cell_type": "code",
      "metadata": {
        "id": "Q1jIoJw97F7H",
        "colab_type": "code",
        "colab": {
          "base_uri": "https://localhost:8080/",
          "height": 35
        },
        "outputId": "b8218713-86f6-45eb-c759-a233b325f733"
      },
      "source": [
        "# The strip() method removes any whitespace from the beginning or the end:\n",
        "s=\" Hello, World! \"\n",
        "s.strip()"
      ],
      "execution_count": 42,
      "outputs": [
        {
          "output_type": "execute_result",
          "data": {
            "application/vnd.google.colaboratory.intrinsic+json": {
              "type": "string"
            },
            "text/plain": [
              "'Hello, World!'"
            ]
          },
          "metadata": {
            "tags": []
          },
          "execution_count": 42
        }
      ]
    },
    {
      "cell_type": "code",
      "metadata": {
        "id": "pk0iwrx57F7K",
        "colab_type": "code",
        "colab": {
          "base_uri": "https://localhost:8080/",
          "height": 69
        },
        "outputId": "7d63d06b-c94b-4591-bf01-a1696e97c2ec"
      },
      "source": [
        "ugly_formatted = ' \\n \\t Some story to tell '\n",
        "stripped = ugly_formatted.strip()\n",
        "\n",
        "print('ugly formatted: {}'.format(ugly_formatted))\n",
        "print('strip formatted: {}'.format(ugly_formatted.strip()))"
      ],
      "execution_count": 43,
      "outputs": [
        {
          "output_type": "stream",
          "text": [
            "ugly formatted:  \n",
            " \t Some story to tell \n",
            "strip formatted: Some story to tell\n"
          ],
          "name": "stdout"
        }
      ]
    },
    {
      "cell_type": "code",
      "metadata": {
        "scrolled": true,
        "id": "RG_7QWkl7F7N",
        "colab_type": "code",
        "colab": {
          "base_uri": "https://localhost:8080/",
          "height": 35
        },
        "outputId": "7d4057e2-4280-4fa8-d82f-401ad9016a3a"
      },
      "source": [
        "# lstrip\n",
        "# string.lstrip(characters)\n",
        "# Remove given charcter to the left of the string:\n",
        "s = \",,,,,,.....banana.......\"\n",
        "s.lstrip(',.')"
      ],
      "execution_count": 44,
      "outputs": [
        {
          "output_type": "execute_result",
          "data": {
            "application/vnd.google.colaboratory.intrinsic+json": {
              "type": "string"
            },
            "text/plain": [
              "'banana.......'"
            ]
          },
          "metadata": {
            "tags": []
          },
          "execution_count": 44
        }
      ]
    },
    {
      "cell_type": "code",
      "metadata": {
        "id": "4silSvsO7F7Q",
        "colab_type": "code",
        "colab": {
          "base_uri": "https://localhost:8080/",
          "height": 35
        },
        "outputId": "087dc3e4-b01c-4293-ea18-666e35cceba5"
      },
      "source": [
        "s.rstrip('.')"
      ],
      "execution_count": 45,
      "outputs": [
        {
          "output_type": "execute_result",
          "data": {
            "application/vnd.google.colaboratory.intrinsic+json": {
              "type": "string"
            },
            "text/plain": [
              "',,,,,,.....banana'"
            ]
          },
          "metadata": {
            "tags": []
          },
          "execution_count": 45
        }
      ]
    },
    {
      "cell_type": "markdown",
      "metadata": {
        "id": "-L9XzWAT7F7S",
        "colab_type": "text"
      },
      "source": [
        "## Calling multiple methods in a row"
      ]
    },
    {
      "cell_type": "code",
      "metadata": {
        "id": "n0ZLRmtA7F7S",
        "colab_type": "code",
        "colab": {
          "base_uri": "https://localhost:8080/",
          "height": 34
        },
        "outputId": "d8821ff0-614f-44fb-ea6a-288692ebf055"
      },
      "source": [
        "ugly_mixed_case = '   ThIS LooKs BAd '\n",
        "pretty = ugly_mixed_case.strip().lower().replace('bad', 'good')\n",
        "print(pretty)"
      ],
      "execution_count": 46,
      "outputs": [
        {
          "output_type": "stream",
          "text": [
            "this looks good\n"
          ],
          "name": "stdout"
        }
      ]
    },
    {
      "cell_type": "markdown",
      "metadata": {
        "id": "9gn6R9Ac7F7U",
        "colab_type": "text"
      },
      "source": [
        "** Note that execution order is from left to right. Thus, this won't work:"
      ]
    },
    {
      "cell_type": "code",
      "metadata": {
        "id": "MtmdfNPn7F7V",
        "colab_type": "code",
        "colab": {
          "base_uri": "https://localhost:8080/",
          "height": 34
        },
        "outputId": "6b61f5e1-f7a1-4fbd-f007-39ad73688104"
      },
      "source": [
        "pretty = ugly_mixed_case.replace('bad', 'good').strip().lower()\n",
        "print(pretty) # here replace will not change BAd to bad as it is case sensitive"
      ],
      "execution_count": 47,
      "outputs": [
        {
          "output_type": "stream",
          "text": [
            "this looks bad\n"
          ],
          "name": "stdout"
        }
      ]
    },
    {
      "cell_type": "markdown",
      "metadata": {
        "id": "bRg3LNDx7F7X",
        "colab_type": "text"
      },
      "source": [
        "rjust\n",
        "The rjust() method will right align the string, using a specified character (space is default) as the fill character.<br>\n",
        "<br>\n",
        "string.rjust(length, character)<br>\n",
        "length\tRequired. The length of the returned string<br>\n",
        "character\tOptional. A character to fill the missing space (to the left of the string). Default is \" \"(space).<br>\n",
        "Return a 20 characters long, right justified version of the word \"banana\""
      ]
    },
    {
      "cell_type": "code",
      "metadata": {
        "id": "W68cJEdB7F7X",
        "colab_type": "code",
        "colab": {
          "base_uri": "https://localhost:8080/",
          "height": 35
        },
        "outputId": "b2d57ba4-d2d5-433a-ccf2-1cf26bc24d69"
      },
      "source": [
        "txt = \"banana\"\n",
        "x = txt.rjust(20,'.')\n",
        "x"
      ],
      "execution_count": 48,
      "outputs": [
        {
          "output_type": "execute_result",
          "data": {
            "application/vnd.google.colaboratory.intrinsic+json": {
              "type": "string"
            },
            "text/plain": [
              "'..............banana'"
            ]
          },
          "metadata": {
            "tags": []
          },
          "execution_count": 48
        }
      ]
    },
    {
      "cell_type": "markdown",
      "metadata": {
        "id": "PmidlLCu7F7b",
        "colab_type": "text"
      },
      "source": [
        "maketrans\n",
        "The maketrans() method returns a mapping table that can be used with the translate() method to replace specified characters.\n",
        "string.maketrans(x, y, z)\n",
        "x\tRequired. If only one parameter is specified, this has to be a dictionary describing how to perform the replace. If two or more parameters are specified, this parameter has to be a string specifying the characters you want to replace.\n",
        "y\tOptional. A string with the same length as parameter x. Each character in the first parameter will be replaced with the corresponding character in this string.\n",
        "z\tOptional. A string describing which characters to remove from the original string."
      ]
    },
    {
      "cell_type": "code",
      "metadata": {
        "id": "v2ZRAXKJ7F7b",
        "colab_type": "code",
        "colab": {
          "base_uri": "https://localhost:8080/",
          "height": 34
        },
        "outputId": "bd2aa534-3b3e-4bf8-e83a-02b2f6fb6c01"
      },
      "source": [
        "txt = \"Hi Sam!\";\n",
        "x = \"mSa\";\n",
        "y = \"eJo\";\n",
        "mytable = txt.maketrans(x, y);\n",
        "print(txt.translate(mytable));"
      ],
      "execution_count": 49,
      "outputs": [
        {
          "output_type": "stream",
          "text": [
            "Hi Joe!\n"
          ],
          "name": "stdout"
        }
      ]
    },
    {
      "cell_type": "markdown",
      "metadata": {
        "id": "9kaM3xAd7F7e",
        "colab_type": "text"
      },
      "source": [
        "replace<br>\n",
        "string.replace(oldvalue, newvalue, count)<br>\n",
        "The replace() method replaces a specified phrase with another specified phrase.<br>\n",
        "oldvalue:\tRequired. The string to search for<br>\n",
        "newvalue:\tRequired. The string to replace the old value with<br>\n",
        "count:   \tOptional. A number specifying how many occurrences of the old value you want to replace. Default is all occurrences"
      ]
    },
    {
      "cell_type": "code",
      "metadata": {
        "id": "n7lz66OW7F7e",
        "colab_type": "code",
        "colab": {
          "base_uri": "https://localhost:8080/",
          "height": 35
        },
        "outputId": "599a2a90-c5cd-49db-ab18-12ed4d1e2ae8"
      },
      "source": [
        "txt = \"one one was a race horse, two two was one too.\"\n",
        "x = txt.replace(\"one\", \"three\")\n",
        "x"
      ],
      "execution_count": 50,
      "outputs": [
        {
          "output_type": "execute_result",
          "data": {
            "application/vnd.google.colaboratory.intrinsic+json": {
              "type": "string"
            },
            "text/plain": [
              "'three three was a race horse, two two was three too.'"
            ]
          },
          "metadata": {
            "tags": []
          },
          "execution_count": 50
        }
      ]
    },
    {
      "cell_type": "markdown",
      "metadata": {
        "id": "WzbWUVIG7F7k",
        "colab_type": "text"
      },
      "source": [
        "splitlines<br>\n",
        "The splitlines() method splits a string into a list. The splitting is done at line breaks.\n"
      ]
    },
    {
      "cell_type": "code",
      "metadata": {
        "id": "jQsjY38q7F7k",
        "colab_type": "code",
        "colab": {
          "base_uri": "https://localhost:8080/",
          "height": 34
        },
        "outputId": "d6506d4d-096c-4c56-e7e9-cb5f86226913"
      },
      "source": [
        "txt = \"Thank you for the music\\nWelcome to the jungle\"\n",
        "x = txt.splitlines(True)\n",
        "x"
      ],
      "execution_count": 51,
      "outputs": [
        {
          "output_type": "execute_result",
          "data": {
            "text/plain": [
              "['Thank you for the music\\n', 'Welcome to the jungle']"
            ]
          },
          "metadata": {
            "tags": []
          },
          "execution_count": 51
        }
      ]
    },
    {
      "cell_type": "code",
      "metadata": {
        "id": "OhQFr3ue7F7n",
        "colab_type": "code",
        "colab": {
          "base_uri": "https://localhost:8080/",
          "height": 34
        },
        "outputId": "f5e82d99-171b-4be4-e6a2-4aae0024ae6e"
      },
      "source": [
        "# startswith\n",
        "txt = \"Hello, welcome to my world.\"\n",
        "x = txt.startswith(\"Hello\")\n",
        "x"
      ],
      "execution_count": 52,
      "outputs": [
        {
          "output_type": "execute_result",
          "data": {
            "text/plain": [
              "True"
            ]
          },
          "metadata": {
            "tags": []
          },
          "execution_count": 52
        }
      ]
    },
    {
      "cell_type": "code",
      "metadata": {
        "id": "YOJ1H-WU7F7r",
        "colab_type": "code",
        "colab": {}
      },
      "source": [
        ""
      ],
      "execution_count": 52,
      "outputs": []
    },
    {
      "cell_type": "code",
      "metadata": {
        "id": "gpK90PxC7F7w",
        "colab_type": "code",
        "colab": {
          "base_uri": "https://localhost:8080/",
          "height": 35
        },
        "outputId": "0ade8153-2641-4f83-ce91-ccdd2efd384e"
      },
      "source": [
        "txt = \"50\"\n",
        "x = txt.zfill(10) # Fill the string with zeros until it is 10 characters long\n",
        "x"
      ],
      "execution_count": 53,
      "outputs": [
        {
          "output_type": "execute_result",
          "data": {
            "application/vnd.google.colaboratory.intrinsic+json": {
              "type": "string"
            },
            "text/plain": [
              "'0000000050'"
            ]
          },
          "metadata": {
            "tags": []
          },
          "execution_count": 53
        }
      ]
    },
    {
      "cell_type": "code",
      "metadata": {
        "id": "9oBKXTeS7F7z",
        "colab_type": "code",
        "colab": {
          "base_uri": "https://localhost:8080/",
          "height": 34
        },
        "outputId": "648c1d66-00ea-4ecb-bb48-cc0f65d051de"
      },
      "source": [
        "# Check String\n",
        "txt = \"The rain in Spain stays mainly in the plain\"\n",
        "x = \"ain\" in txt\n",
        "x"
      ],
      "execution_count": 54,
      "outputs": [
        {
          "output_type": "execute_result",
          "data": {
            "text/plain": [
              "True"
            ]
          },
          "metadata": {
            "tags": []
          },
          "execution_count": 54
        }
      ]
    },
    {
      "cell_type": "code",
      "metadata": {
        "id": "P9iQzdLl7F71",
        "colab_type": "code",
        "colab": {
          "base_uri": "https://localhost:8080/",
          "height": 34
        },
        "outputId": "25d861ed-a50c-4fa0-b5c0-073b78ed50f2"
      },
      "source": [
        "x = \"ain\" not in txt\n",
        "x"
      ],
      "execution_count": 55,
      "outputs": [
        {
          "output_type": "execute_result",
          "data": {
            "text/plain": [
              "False"
            ]
          },
          "metadata": {
            "tags": []
          },
          "execution_count": 55
        }
      ]
    },
    {
      "cell_type": "markdown",
      "metadata": {
        "id": "OlGyBPUl7F74",
        "colab_type": "text"
      },
      "source": [
        "String Concatenation"
      ]
    },
    {
      "cell_type": "code",
      "metadata": {
        "id": "HRyLQN3G7F75",
        "colab_type": "code",
        "colab": {
          "base_uri": "https://localhost:8080/",
          "height": 35
        },
        "outputId": "23ff43d3-d0c9-41de-96ad-94e8b40cd99e"
      },
      "source": [
        "a = \"Hello \"\n",
        "b = \"World\"\n",
        "c = a + b\n",
        "c"
      ],
      "execution_count": 56,
      "outputs": [
        {
          "output_type": "execute_result",
          "data": {
            "application/vnd.google.colaboratory.intrinsic+json": {
              "type": "string"
            },
            "text/plain": [
              "'Hello World'"
            ]
          },
          "metadata": {
            "tags": []
          },
          "execution_count": 56
        }
      ]
    },
    {
      "cell_type": "markdown",
      "metadata": {
        "id": "Yfkf2ihH7F78",
        "colab_type": "text"
      },
      "source": [
        "**<br>\n",
        "strings enclosed between quotes next to each other are automatically concatenated. This feature is particularly useful when you want to break long strings:"
      ]
    },
    {
      "cell_type": "code",
      "metadata": {
        "id": "NWMxRsts7F78",
        "colab_type": "code",
        "colab": {
          "base_uri": "https://localhost:8080/",
          "height": 35
        },
        "outputId": "887d20f0-7f5e-4f52-ada6-d36a0456d5cf"
      },
      "source": [
        "'Py' 'thon'"
      ],
      "execution_count": 57,
      "outputs": [
        {
          "output_type": "execute_result",
          "data": {
            "application/vnd.google.colaboratory.intrinsic+json": {
              "type": "string"
            },
            "text/plain": [
              "'Python'"
            ]
          },
          "metadata": {
            "tags": []
          },
          "execution_count": 57
        }
      ]
    },
    {
      "cell_type": "code",
      "metadata": {
        "id": "4IMZnoqa7F7_",
        "colab_type": "code",
        "colab": {
          "base_uri": "https://localhost:8080/",
          "height": 35
        },
        "outputId": "d76d6833-d79a-47af-bc59-11ebb6b16701"
      },
      "source": [
        "text = ('Put several strings within parentheses '\n",
        "         'to have them joined together.')\n",
        "text"
      ],
      "execution_count": 58,
      "outputs": [
        {
          "output_type": "execute_result",
          "data": {
            "application/vnd.google.colaboratory.intrinsic+json": {
              "type": "string"
            },
            "text/plain": [
              "'Put several strings within parentheses to have them joined together.'"
            ]
          },
          "metadata": {
            "tags": []
          },
          "execution_count": 58
        }
      ]
    },
    {
      "cell_type": "code",
      "metadata": {
        "id": "BKMiC1tN7F8D",
        "colab_type": "code",
        "colab": {
          "base_uri": "https://localhost:8080/",
          "height": 35
        },
        "outputId": "e780ff54-a39d-40c5-886f-9d25d046345f"
      },
      "source": [
        "prefix = 'Py'\n",
        "prefix + 'thon'\n",
        "#** we cant use prefix 'thon'. it will not concat variable & string. to do it use +"
      ],
      "execution_count": 59,
      "outputs": [
        {
          "output_type": "execute_result",
          "data": {
            "application/vnd.google.colaboratory.intrinsic+json": {
              "type": "string"
            },
            "text/plain": [
              "'Python'"
            ]
          },
          "metadata": {
            "tags": []
          },
          "execution_count": 59
        }
      ]
    },
    {
      "cell_type": "code",
      "metadata": {
        "id": "IfnhCXIC7F8F",
        "colab_type": "code",
        "colab": {
          "base_uri": "https://localhost:8080/",
          "height": 35
        },
        "outputId": "5dd80b8a-4c74-46e1-eb0c-3692f8675097"
      },
      "source": [
        "# multiple repeatition of strings can be possiable using *\n",
        "3 * 'un' + 'ium'"
      ],
      "execution_count": 60,
      "outputs": [
        {
          "output_type": "execute_result",
          "data": {
            "application/vnd.google.colaboratory.intrinsic+json": {
              "type": "string"
            },
            "text/plain": [
              "'unununium'"
            ]
          },
          "metadata": {
            "tags": []
          },
          "execution_count": 60
        }
      ]
    },
    {
      "cell_type": "markdown",
      "metadata": {
        "id": "XvS4wwFw7F8I",
        "colab_type": "text"
      },
      "source": [
        "Escape Character"
      ]
    },
    {
      "cell_type": "code",
      "metadata": {
        "id": "5vKkneYS7F8J",
        "colab_type": "code",
        "colab": {}
      },
      "source": [
        "#txt = \"We are the so-called \"Vikings\" from the north.\"\n",
        "\n",
        "# txt Gives error because nested \"\" are used."
      ],
      "execution_count": 61,
      "outputs": []
    },
    {
      "cell_type": "code",
      "metadata": {
        "id": "skae0Y8y7F8L",
        "colab_type": "code",
        "colab": {
          "base_uri": "https://localhost:8080/",
          "height": 35
        },
        "outputId": "f9c0d925-4db3-485c-a6bf-5665796fda16"
      },
      "source": [
        "# To avoid this use escape charcter \\\"\n",
        "txt = \"We are the so-called \\\"Vikings\\\" from the north.\"\n",
        "txt"
      ],
      "execution_count": 62,
      "outputs": [
        {
          "output_type": "execute_result",
          "data": {
            "application/vnd.google.colaboratory.intrinsic+json": {
              "type": "string"
            },
            "text/plain": [
              "'We are the so-called \"Vikings\" from the north.'"
            ]
          },
          "metadata": {
            "tags": []
          },
          "execution_count": 62
        }
      ]
    },
    {
      "cell_type": "markdown",
      "metadata": {
        "id": "jgArHrIC7F8N",
        "colab_type": "text"
      },
      "source": [
        "### Other Escape charcters\n",
        "\\'\tSingle Quote\n",
        "\\\\\tBackslash\t\n",
        "\\n\tNew Line\t\n",
        "\\r\tCarriage Return\t\n",
        "\\t\tTab\t\n",
        "\\b\tBackspace\t\n",
        "\\f\tForm Feed\t\n",
        "\\ooo\tOctal value\t\n",
        "\\xhh\tHex value"
      ]
    },
    {
      "cell_type": "markdown",
      "metadata": {
        "id": "kwp7q0mf7F8Q",
        "colab_type": "text"
      },
      "source": [
        "Multiline Strings"
      ]
    },
    {
      "cell_type": "code",
      "metadata": {
        "id": "CVQn74l47F8Q",
        "colab_type": "code",
        "colab": {
          "base_uri": "https://localhost:8080/",
          "height": 86
        },
        "outputId": "f9dc0a53-fb1e-457b-cad3-3f964bf6d481"
      },
      "source": [
        "a=\"\"\"Lorem ipsum dolor sit amet,\n",
        "consectetur adipiscing elit,\n",
        "sed do eiusmod tempor incididunt\n",
        "ut labore et dolore magna aliqua.\"\"\"\n",
        "print(a)"
      ],
      "execution_count": 63,
      "outputs": [
        {
          "output_type": "stream",
          "text": [
            "Lorem ipsum dolor sit amet,\n",
            "consectetur adipiscing elit,\n",
            "sed do eiusmod tempor incididunt\n",
            "ut labore et dolore magna aliqua.\n"
          ],
          "name": "stdout"
        }
      ]
    },
    {
      "cell_type": "markdown",
      "metadata": {
        "id": "kFZQu-b_7F8U",
        "colab_type": "text"
      },
      "source": [
        "**<br>\n",
        "Strings are immutable."
      ]
    },
    {
      "cell_type": "code",
      "metadata": {
        "id": "Is0cEoqI7F8V",
        "colab_type": "code",
        "colab": {}
      },
      "source": [
        "a = \"Hello, World!\"\n",
        "# a[0] = 'J'   # TypeError: 'str' object does not support item assignment"
      ],
      "execution_count": 64,
      "outputs": []
    },
    {
      "cell_type": "markdown",
      "metadata": {
        "id": "fsQjyOqo7F8Y",
        "colab_type": "text"
      },
      "source": [
        "Strings are Arrays"
      ]
    },
    {
      "cell_type": "code",
      "metadata": {
        "id": "l4pmhL777F8Z",
        "colab_type": "code",
        "colab": {
          "base_uri": "https://localhost:8080/",
          "height": 35
        },
        "outputId": "dffed12d-748f-40dd-927e-4c26085cb7fc"
      },
      "source": [
        "a = \"Hello, World!\"\n",
        "a[1]"
      ],
      "execution_count": 65,
      "outputs": [
        {
          "output_type": "execute_result",
          "data": {
            "application/vnd.google.colaboratory.intrinsic+json": {
              "type": "string"
            },
            "text/plain": [
              "'e'"
            ]
          },
          "metadata": {
            "tags": []
          },
          "execution_count": 65
        }
      ]
    },
    {
      "cell_type": "markdown",
      "metadata": {
        "id": "uoG_RB-17F8f",
        "colab_type": "text"
      },
      "source": [
        "Slicing"
      ]
    },
    {
      "cell_type": "code",
      "metadata": {
        "id": "mQnL1ymO7F8g",
        "colab_type": "code",
        "colab": {
          "base_uri": "https://localhost:8080/",
          "height": 35
        },
        "outputId": "7e956dc7-911e-47c6-dd63-dcfb336a68b9"
      },
      "source": [
        "s[0:5:2] # sclicing"
      ],
      "execution_count": 66,
      "outputs": [
        {
          "output_type": "execute_result",
          "data": {
            "application/vnd.google.colaboratory.intrinsic+json": {
              "type": "string"
            },
            "text/plain": [
              "',,,'"
            ]
          },
          "metadata": {
            "tags": []
          },
          "execution_count": 66
        }
      ]
    },
    {
      "cell_type": "markdown",
      "metadata": {
        "id": "Nn266JU87F8i",
        "colab_type": "text"
      },
      "source": [
        "Negative Indexing"
      ]
    },
    {
      "cell_type": "code",
      "metadata": {
        "id": "JZwWEyp47F8j",
        "colab_type": "code",
        "colab": {
          "base_uri": "https://localhost:8080/",
          "height": 35
        },
        "outputId": "1672e6c5-486a-49b4-f367-b589c6c53e07"
      },
      "source": [
        "b = \"Hello, World!\"\n",
        "b[-5:-2]"
      ],
      "execution_count": 67,
      "outputs": [
        {
          "output_type": "execute_result",
          "data": {
            "application/vnd.google.colaboratory.intrinsic+json": {
              "type": "string"
            },
            "text/plain": [
              "'orl'"
            ]
          },
          "metadata": {
            "tags": []
          },
          "execution_count": 67
        }
      ]
    },
    {
      "cell_type": "markdown",
      "metadata": {
        "id": "Q2UdfF_Z7F8m",
        "colab_type": "text"
      },
      "source": [
        "String Length"
      ]
    },
    {
      "cell_type": "code",
      "metadata": {
        "id": "XxVCngTX7F8n",
        "colab_type": "code",
        "colab": {
          "base_uri": "https://localhost:8080/",
          "height": 34
        },
        "outputId": "0442587e-3c02-4f0c-8f33-15469405db38"
      },
      "source": [
        "a = \"Hello, World!\"\n",
        "len(a)"
      ],
      "execution_count": 68,
      "outputs": [
        {
          "output_type": "execute_result",
          "data": {
            "text/plain": [
              "13"
            ]
          },
          "metadata": {
            "tags": []
          },
          "execution_count": 68
        }
      ]
    },
    {
      "cell_type": "markdown",
      "metadata": {
        "id": "ByHI8Swt7F8p",
        "colab_type": "text"
      },
      "source": [
        "Split the string to its each letter without using for loop"
      ]
    },
    {
      "cell_type": "code",
      "metadata": {
        "id": "xAyWOK0i7F8q",
        "colab_type": "code",
        "colab": {
          "base_uri": "https://localhost:8080/",
          "height": 34
        },
        "outputId": "a631b208-b979-4067-ff3b-f79b72fccc1b"
      },
      "source": [
        "s='HelloWorld'\n",
        "list(s)"
      ],
      "execution_count": 69,
      "outputs": [
        {
          "output_type": "execute_result",
          "data": {
            "text/plain": [
              "['H', 'e', 'l', 'l', 'o', 'W', 'o', 'r', 'l', 'd']"
            ]
          },
          "metadata": {
            "tags": []
          },
          "execution_count": 69
        }
      ]
    },
    {
      "cell_type": "markdown",
      "metadata": {
        "id": "jfYJZAmG7F8u",
        "colab_type": "text"
      },
      "source": [
        "Printing String"
      ]
    },
    {
      "cell_type": "markdown",
      "metadata": {
        "id": "1LoE8E6l7F8v",
        "colab_type": "text"
      },
      "source": [
        "**<br>\n",
        "\\ is used as escape quotes\"\"<br>\n",
        "in the below eg, even ' came in between it is escaped"
      ]
    },
    {
      "cell_type": "code",
      "metadata": {
        "id": "gl_9Uo0N7F8v",
        "colab_type": "code",
        "colab": {
          "base_uri": "https://localhost:8080/",
          "height": 35
        },
        "outputId": "330c9fd8-69eb-4b0b-a822-5bbb7e00a73a"
      },
      "source": [
        "'Hello \\'t World' "
      ],
      "execution_count": 70,
      "outputs": [
        {
          "output_type": "execute_result",
          "data": {
            "application/vnd.google.colaboratory.intrinsic+json": {
              "type": "string"
            },
            "text/plain": [
              "\"Hello 't World\""
            ]
          },
          "metadata": {
            "tags": []
          },
          "execution_count": 70
        }
      ]
    },
    {
      "cell_type": "markdown",
      "metadata": {
        "id": "7GDdq9CM7F8z",
        "colab_type": "text"
      },
      "source": [
        "**<br>\n",
        "The print() function produces a more readable output, by omitting the enclosing quotes and by printing escaped and special characters:\n",
        "\n",
        "***Check Python - Formatting in Print function.ipnb for more ways of implementing formatting funtion"
      ]
    },
    {
      "cell_type": "code",
      "metadata": {
        "id": "c1emuMmT7F80",
        "colab_type": "code",
        "colab": {
          "base_uri": "https://localhost:8080/",
          "height": 34
        },
        "outputId": "bc1b9c31-8355-4d7d-8b42-2570ed41b673"
      },
      "source": [
        "print('Hello \\'t World')"
      ],
      "execution_count": 71,
      "outputs": [
        {
          "output_type": "stream",
          "text": [
            "Hello 't World\n"
          ],
          "name": "stdout"
        }
      ]
    },
    {
      "cell_type": "code",
      "metadata": {
        "id": "j6I8kYfv7F83",
        "colab_type": "code",
        "colab": {
          "base_uri": "https://localhost:8080/",
          "height": 34
        },
        "outputId": "f57d5149-2ba0-4c78-c8b8-ed2393f8621c"
      },
      "source": [
        "t='Hello World.{}'   # {} is special charcter used for formating the string\n",
        "print(t.format('How are you'))"
      ],
      "execution_count": 72,
      "outputs": [
        {
          "output_type": "stream",
          "text": [
            "Hello World.How are you\n"
          ],
          "name": "stdout"
        }
      ]
    },
    {
      "cell_type": "code",
      "metadata": {
        "id": "Ct3udGc77F87",
        "colab_type": "code",
        "colab": {
          "base_uri": "https://localhost:8080/",
          "height": 51
        },
        "outputId": "7a4da3d1-6279-4f29-b2b6-1aa86f8db76e"
      },
      "source": [
        "s = 'First line.\\nSecond line.'  # \\n means newline\n",
        "print(s)"
      ],
      "execution_count": 73,
      "outputs": [
        {
          "output_type": "stream",
          "text": [
            "First line.\n",
            "Second line.\n"
          ],
          "name": "stdout"
        }
      ]
    },
    {
      "cell_type": "markdown",
      "metadata": {
        "id": "vZMQ2aRv7F8-",
        "colab_type": "text"
      },
      "source": [
        "**<br>\n",
        "If you don’t want characters prefaced by \\ to be interpreted as special characters, you can use raw strings by adding an r before the first quote:"
      ]
    },
    {
      "cell_type": "code",
      "metadata": {
        "id": "9pXVNYL_7F8_",
        "colab_type": "code",
        "colab": {
          "base_uri": "https://localhost:8080/",
          "height": 51
        },
        "outputId": "2e219fbd-13d2-4caa-ed8f-a72f4bb14155"
      },
      "source": [
        "print('C:\\some\\name')  # here \\n means newline!"
      ],
      "execution_count": 74,
      "outputs": [
        {
          "output_type": "stream",
          "text": [
            "C:\\some\n",
            "ame\n"
          ],
          "name": "stdout"
        }
      ]
    },
    {
      "cell_type": "code",
      "metadata": {
        "id": "-ML5FOC27F9B",
        "colab_type": "code",
        "colab": {
          "base_uri": "https://localhost:8080/",
          "height": 34
        },
        "outputId": "5b8ac8fc-91f3-4258-b4a1-15ff0a81a476"
      },
      "source": [
        "# to avoid printing like this use r\n",
        "print(r'C:\\some\\name')  # note the r before the quote"
      ],
      "execution_count": 75,
      "outputs": [
        {
          "output_type": "stream",
          "text": [
            "C:\\some\\name\n"
          ],
          "name": "stdout"
        }
      ]
    },
    {
      "cell_type": "code",
      "metadata": {
        "id": "odToJ_9d7F9I",
        "colab_type": "code",
        "colab": {
          "base_uri": "https://localhost:8080/",
          "height": 103
        },
        "outputId": "b102fa81-fdf0-4429-ac5b-314297eec5e5"
      },
      "source": [
        "# While printing multiple lines in the below eg 1st line is coming as blank line\n",
        "print(\"\"\"\n",
        "Usage: thingy [OPTIONS]\n",
        "     -h\n",
        "     -H hostname\n",
        "\"\"\")"
      ],
      "execution_count": 76,
      "outputs": [
        {
          "output_type": "stream",
          "text": [
            "\n",
            "Usage: thingy [OPTIONS]\n",
            "     -h\n",
            "     -H hostname\n",
            "\n"
          ],
          "name": "stdout"
        }
      ]
    },
    {
      "cell_type": "code",
      "metadata": {
        "id": "Xq_iwK3h7F9K",
        "colab_type": "code",
        "colab": {
          "base_uri": "https://localhost:8080/",
          "height": 86
        },
        "outputId": "e26d7269-80d0-4cd5-a0cc-b1c261f13d63"
      },
      "source": [
        "# To avoid this 1st new line give \\ after the \"\"\"\n",
        "print(\"\"\"\\\n",
        "Usage: thingy [OPTIONS]\n",
        "     -h\n",
        "     -H hostname\n",
        "\"\"\")"
      ],
      "execution_count": 77,
      "outputs": [
        {
          "output_type": "stream",
          "text": [
            "Usage: thingy [OPTIONS]\n",
            "     -h\n",
            "     -H hostname\n",
            "\n"
          ],
          "name": "stdout"
        }
      ]
    },
    {
      "cell_type": "markdown",
      "metadata": {
        "id": "AVNkoG7E7F9N",
        "colab_type": "text"
      },
      "source": [
        "Using of Help Funtion"
      ]
    },
    {
      "cell_type": "code",
      "metadata": {
        "scrolled": true,
        "id": "mYjdNrJ37F9O",
        "colab_type": "code",
        "colab": {
          "base_uri": "https://localhost:8080/",
          "height": 173
        },
        "outputId": "501b6f52-2ccd-434d-8859-88514035c8cb"
      },
      "source": [
        "help(str.replace)"
      ],
      "execution_count": 78,
      "outputs": [
        {
          "output_type": "stream",
          "text": [
            "Help on method_descriptor:\n",
            "\n",
            "replace(...)\n",
            "    S.replace(old, new[, count]) -> str\n",
            "    \n",
            "    Return a copy of S with all occurrences of substring\n",
            "    old replaced by new.  If the optional argument count is\n",
            "    given, only the first count occurrences are replaced.\n",
            "\n"
          ],
          "name": "stdout"
        }
      ]
    },
    {
      "cell_type": "code",
      "metadata": {
        "id": "jVO_Z3IT7F9R",
        "colab_type": "code",
        "colab": {}
      },
      "source": [
        ""
      ],
      "execution_count": 78,
      "outputs": []
    },
    {
      "cell_type": "code",
      "metadata": {
        "id": "XP7l73qF7F9U",
        "colab_type": "code",
        "colab": {}
      },
      "source": [
        ""
      ],
      "execution_count": 78,
      "outputs": []
    }
  ]
}