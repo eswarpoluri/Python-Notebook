{
  "nbformat": 4,
  "nbformat_minor": 0,
  "metadata": {
    "kernelspec": {
      "display_name": "Python 3",
      "language": "python",
      "name": "python3"
    },
    "language_info": {
      "codemirror_mode": {
        "name": "ipython",
        "version": 3
      },
      "file_extension": ".py",
      "mimetype": "text/x-python",
      "name": "python",
      "nbconvert_exporter": "python",
      "pygments_lexer": "ipython3",
      "version": "3.7.7"
    },
    "colab": {
      "name": "Py - 002 Operators.ipynb",
      "provenance": [],
      "include_colab_link": true
    }
  },
  "cells": [
    {
      "cell_type": "markdown",
      "metadata": {
        "id": "view-in-github",
        "colab_type": "text"
      },
      "source": [
        "<a href=\"https://colab.research.google.com/github/eswarpoluri/Python-Notebook/blob/master.Python-Notebook/Py%20-%20002%20Operators.ipynb\" target=\"_parent\"><img src=\"https://colab.research.google.com/assets/colab-badge.svg\" alt=\"Open In Colab\"/></a>"
      ]
    },
    {
      "cell_type": "markdown",
      "metadata": {
        "id": "ZOHzW-Yz9_uQ",
        "colab_type": "text"
      },
      "source": [
        "Types of Operators: Arithmetic, Bitwise, Comparison and Assignment operators, \n",
        "Operators Precedence and associativity"
      ]
    },
    {
      "cell_type": "markdown",
      "metadata": {
        "id": "P7dmwkou-eer",
        "colab_type": "text"
      },
      "source": [
        "# Arithmetic Operators: \n",
        "* \"+\"\t-  Addition\n",
        "* \"-\"\t-  Subtraction\n",
        "* \"*\"\t-  Multiplication\n",
        "* \"/\"\t-  Division\t\n",
        "* \"%\"\t-  Modulus\n",
        "* \"**\" -  Exponentiation\n",
        "* \"//\"\t-  Floor division"
      ]
    },
    {
      "cell_type": "markdown",
      "metadata": {
        "id": "Aw8ziO8QAho5",
        "colab_type": "text"
      },
      "source": [
        "# Assignment Operators:\n",
        "* \"=\"\n",
        "* \"+=\"\t\n",
        "* \"-=\"\t\n",
        "* \"*=\"\n",
        "* \"/=\"\n",
        "* \"%=\"\n",
        "* \"//=\"\n",
        "* \"**=\"\t\n",
        "* \"&=\"\t\n",
        "* \"|=\"\t\n",
        "* \"^=\"\t\n",
        "* \">>=\"\t\n",
        "* \"<<=\"\t"
      ]
    },
    {
      "cell_type": "markdown",
      "metadata": {
        "id": "xH-AZ0g1BKXt",
        "colab_type": "text"
      },
      "source": [
        "# Comparison Operators:\n",
        "* \"==\"\t- Equal\n",
        "* \"!=\"\t- Not equal\n",
        "* \">\"\t  - Greater than\n",
        "* \"<\"   - Less than\n",
        "* \">=\"  - Greater than or equal to\n",
        "* \"<=\"\t- Less than or equal to"
      ]
    },
    {
      "cell_type": "markdown",
      "metadata": {
        "id": "Hmv71m2nBuDR",
        "colab_type": "text"
      },
      "source": [
        "# Logical Operators:\n",
        "* and\t- Returns True if both statements are true\n",
        "* or\t- Returns True if one of the statements is true\n",
        "* not\t- Reverse the result, returns False if the result is true"
      ]
    },
    {
      "cell_type": "markdown",
      "metadata": {
        "id": "mknTuu9QCDxu",
        "colab_type": "text"
      },
      "source": [
        "# Identity Operators:\n",
        "* is\t- Returns True if both variables are the same object\n",
        "* is not\t- Returns True if both variables are not the same object"
      ]
    },
    {
      "cell_type": "markdown",
      "metadata": {
        "id": "1z36bFr5CeGJ",
        "colab_type": "text"
      },
      "source": [
        "# Membership Operators:\n",
        "* in\t- Returns True if a sequence with the specified value is present in the object\n",
        "* not in - Returns True if a sequence with the specified value is not present in the object"
      ]
    },
    {
      "cell_type": "markdown",
      "metadata": {
        "id": "WgiTkZgyCuIR",
        "colab_type": "text"
      },
      "source": [
        "# Bitwise Operators:\n",
        "* & \t- AND - if both bits are 1, output is 1\n",
        "* |\t- OR - if one of two bits is 1, output is 1\n",
        "*  ^\t- XOR - if only one of two bits is 1, output is 1 \n",
        "* ~ \t- NOT\t- Inverts all the bits\n",
        "* <<\t- Zero fill left shift\t- Shift left by pushing zeros in from the right and let the leftmost bits fall off\n",
        "* '>>'\t- Signed right shift\t- Shift right by pushing copies of the leftmost bit in from the left, and let the rightmost bits fall off"
      ]
    },
    {
      "cell_type": "markdown",
      "metadata": {
        "id": "guPrgb_JjJQ8",
        "colab_type": "text"
      },
      "source": [
        "# Assignment Operators\n",
        "* =\n",
        "* +=\n",
        "* -=\n",
        "* *=\n",
        "* /=\n",
        "* %=\n",
        "* //=\n",
        "* **=\n",
        "* &=\n",
        "* |=\n",
        "* ^=\n",
        "* '>>='\n",
        "* '<<='"
      ]
    },
    {
      "cell_type": "markdown",
      "metadata": {
        "id": "9d26nWvqFgnd",
        "colab_type": "text"
      },
      "source": [
        "Q.What is the output of below examples"
      ]
    },
    {
      "cell_type": "code",
      "metadata": {
        "id": "MaR1gFHBFwjl",
        "colab_type": "code",
        "colab": {
          "base_uri": "https://localhost:8080/",
          "height": 138
        },
        "outputId": "690043ed-81eb-41c3-a3db-80ef99e91993"
      },
      "source": [
        "# Arithmetic Operators:\n",
        "print(\"1.\",1+1)\n",
        "print(\"2.\",1-1)\n",
        "print(\"3.\",1*2)\n",
        "print(\"4.\",1/2)\n",
        "print(\"5.\",1%2)\n",
        "print(\"6.\",1**2)\n",
        "print(\"7.\",1//2)  # Floor division returns only integer of floor value of output"
      ],
      "execution_count": null,
      "outputs": [
        {
          "output_type": "stream",
          "text": [
            "1. 2\n",
            "2. 0\n",
            "3. 2\n",
            "4. 0.5\n",
            "5. 1\n",
            "6. 1\n",
            "7. 0\n"
          ],
          "name": "stdout"
        }
      ]
    },
    {
      "cell_type": "code",
      "metadata": {
        "id": "AqueU98Rif1l",
        "colab_type": "code",
        "colab": {}
      },
      "source": [
        ""
      ],
      "execution_count": null,
      "outputs": []
    }
  ]
}